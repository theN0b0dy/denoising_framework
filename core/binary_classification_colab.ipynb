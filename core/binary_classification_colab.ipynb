{
  "cells": [
    {
      "cell_type": "code",
      "execution_count": null,
      "metadata": {
        "colab": {
          "base_uri": "https://localhost:8080/"
        },
        "id": "0pEHGLSzV837",
        "outputId": "b970515b-b6cf-476a-de10-9aab146bb902"
      },
      "outputs": [],
      "source": [
        "from google.colab import drive\n",
        "drive.mount('/content/drive')"
      ]
    },
    {
      "cell_type": "code",
      "execution_count": null,
      "metadata": {
        "colab": {
          "base_uri": "https://localhost:8080/"
        },
        "id": "Tp3iX3rooiel",
        "outputId": "e2ff563f-30d2-4d2b-a2ee-c204e42c3abd"
      },
      "outputs": [],
      "source": [
        "%pip install --upgrade pip\n",
        "%pip install seaborn\n",
        "%pip install keras\n",
        "%pip install tenserflow"
      ]
    },
    {
      "cell_type": "code",
      "execution_count": null,
      "metadata": {
        "id": "CN72RmzVoiem"
      },
      "outputs": [],
      "source": [
        "import numpy as np\n",
        "import os\n",
        "import cv2\n",
        "import seaborn as sns\n",
        "import matplotlib.pyplot as plt\n",
        "\n",
        "import keras\n",
        "from keras.preprocessing.image import ImageDataGenerator\n",
        "from keras.models import Sequential\n",
        "from keras.layers import Dense, Conv2D , MaxPool2D , Flatten , Dropout\n",
        "\n",
        "import tensorflow as tf\n",
        "from keras.optimizers import Adam\n"
      ]
    },
    {
      "cell_type": "code",
      "execution_count": null,
      "metadata": {
        "id": "53GpUj2doien"
      },
      "outputs": [],
      "source": [
        "data_dir = \"./drive/MyDrive/DataSet1/\" \n",
        "\n",
        "general_lables = ['Defected', 'OK']\n",
        "img_size = 128 # image size\n",
        "def get_data(data_dir):\n",
        "    images = []\n",
        "    labels = []\n",
        "    for label in general_lables:\n",
        "        path = os.path.join(data_dir, label)\n",
        "        class_num = general_lables.index(label)\n",
        "        for img in os.listdir(path):\n",
        "            try:\n",
        "                f = os.path.join(path, img)\n",
        "                img_arr = cv2.imread(f, 0)\n",
        "                resized_arr = cv2.resize(img_arr, (img_size, img_size))\n",
        "                images.append(resized_arr)\n",
        "                labels.append(class_num)\n",
        "            except Exception as e:\n",
        "                print(e)\n",
        "    return np.array(images), np.array(labels)\n",
        "\n",
        "images, labels = get_data(data_dir)\n"
      ]
    },
    {
      "cell_type": "code",
      "execution_count": null,
      "metadata": {
        "id": "b4r4GlHVXaz5"
      },
      "outputs": [],
      "source": [
        "num_samples = len(images)\n",
        "num_trains = int((num_samples * 3) / 4) # 3/4 of data used for training and 1/3 for validation(testing)\n",
        "train_images = images[:num_trains]\n",
        "train_labels = labels[:num_trains]\n",
        "test_images = images[num_trains:]\n",
        "test_labels = labels[num_trains:]"
      ]
    },
    {
      "cell_type": "code",
      "execution_count": null,
      "metadata": {
        "colab": {
          "base_uri": "https://localhost:8080/",
          "height": 467
        },
        "id": "ddijwHOeoien",
        "outputId": "a7eeb0e1-10ca-45c6-d547-dda7a57610fa"
      },
      "outputs": [],
      "source": [
        "l = [general_lables[i] for i in train_labels]\n",
        "sns.set_style('darkgrid')\n",
        "sns.countplot(l)"
      ]
    },
    {
      "cell_type": "code",
      "execution_count": null,
      "metadata": {
        "colab": {
          "base_uri": "https://localhost:8080/",
          "height": 486
        },
        "id": "myIUPnUMoien",
        "outputId": "434f4417-aab3-42ad-bef7-958ffce2e3fd"
      },
      "outputs": [],
      "source": [
        "# plot random images\n",
        "plt.figure(figsize = (5,5))\n",
        "plt.imshow(train_images[4], cmap='gray')\n",
        "plt.title(general_lables[train_labels[4]])"
      ]
    },
    {
      "cell_type": "code",
      "execution_count": null,
      "metadata": {
        "colab": {
          "base_uri": "https://localhost:8080/",
          "height": 486
        },
        "id": "3gDY72g6oieo",
        "outputId": "56775aed-4530-4fc2-ab19-4d8482c21145"
      },
      "outputs": [],
      "source": [
        "# plot random images\n",
        "plt.figure(figsize = (5,5))\n",
        "plt.imshow(train_images[-1], cmap='gray')\n",
        "plt.title(general_lables[train_labels[-1]])"
      ]
    },
    {
      "cell_type": "code",
      "execution_count": null,
      "metadata": {
        "id": "sHsJqozpoieo"
      },
      "outputs": [],
      "source": [
        "x_train = train_images\n",
        "y_train = train_labels\n",
        "x_val = test_images\n",
        "y_val = test_labels\n",
        "\n",
        "# Normalize the data\n",
        "x_train = np.array(x_train) / 255\n",
        "x_val = np.array(x_val) / 255\n",
        "\n",
        "x_train = x_train.reshape(-1, img_size, img_size, 1)\n",
        "y_train = np.array(y_train)\n",
        "\n",
        "x_val = x_val.reshape(-1, img_size, img_size, 1)\n",
        "y_val = np.array(y_val)\n"
      ]
    },
    {
      "cell_type": "code",
      "execution_count": null,
      "metadata": {
        "id": "98V171aQoieo"
      },
      "outputs": [],
      "source": [
        "datagen = ImageDataGenerator(\n",
        "        featurewise_center=False,  # set input mean to 0 over the dataset\n",
        "        samplewise_center=False,  # set each sample mean to 0\n",
        "        featurewise_std_normalization=False,  # divide inputs by std of the dataset\n",
        "        samplewise_std_normalization=False,  # divide each input by its std\n",
        "        zca_whitening=False,  # apply ZCA whitening\n",
        "        rotation_range = 30,  # randomly rotate images in the range (degrees, 0 to 180)\n",
        "        zoom_range = 0.2, # Randomly zoom image\n",
        "        width_shift_range=0.1,  # randomly shift images horizontally (fraction of total width)\n",
        "        height_shift_range=0.1,  # randomly shift images vertically (fraction of total height)\n",
        "        horizontal_flip = True,  # randomly flip images\n",
        "        vertical_flip=False)  # randomly flip images"
      ]
    },
    {
      "cell_type": "code",
      "execution_count": null,
      "metadata": {
        "id": "ebPknc0Soieo"
      },
      "outputs": [],
      "source": [
        "datagen.fit(x_train)\n"
      ]
    },
    {
      "cell_type": "code",
      "execution_count": null,
      "metadata": {
        "colab": {
          "base_uri": "https://localhost:8080/"
        },
        "id": "B8ryoGC4oieo",
        "outputId": "f9d2b612-7ae7-42b5-b133-85a307f8c3f8"
      },
      "outputs": [],
      "source": [
        "model = Sequential()\n",
        "model.add(Conv2D(32,3,padding=\"same\", activation=\"relu\", input_shape=(128,128,1)))\n",
        "model.add(MaxPool2D())\n",
        "\n",
        "model.add(Conv2D(32, 3, padding=\"same\", activation=\"relu\"))\n",
        "model.add(MaxPool2D())\n",
        "\n",
        "model.add(Conv2D(64, 3, padding=\"same\", activation=\"relu\"))\n",
        "model.add(MaxPool2D())\n",
        "model.add(Dropout(0.4))\n",
        "\n",
        "model.add(Flatten())\n",
        "model.add(Dense(128,activation=\"relu\"))\n",
        "model.add(Dense(2, activation=\"softmax\"))\n",
        "\n",
        "model.summary()"
      ]
    },
    {
      "cell_type": "code",
      "execution_count": null,
      "metadata": {
        "id": "oIBMR1XQoiep"
      },
      "outputs": [],
      "source": [
        "opt = Adam(learning_rate=0.001)\n",
        "model.compile(optimizer = opt , loss = tf.keras.losses.SparseCategoricalCrossentropy(from_logits=True) , metrics = ['accuracy'])"
      ]
    },
    {
      "cell_type": "code",
      "execution_count": null,
      "metadata": {
        "id": "LEhs4UEuywnF"
      },
      "outputs": [],
      "source": [
        "checkpoint_path = \"./cp.ckpt\"\n",
        "checkpoint_dir = os.path.dirname(checkpoint_path)\n",
        "\n",
        "# Create a callback that saves the model's weights\n",
        "cp_callback = tf.keras.callbacks.ModelCheckpoint(filepath=checkpoint_path,\n",
        "                                                save_weights_only=True,\n",
        "                                                verbose=1)"
      ]
    },
    {
      "cell_type": "code",
      "execution_count": null,
      "metadata": {
        "colab": {
          "base_uri": "https://localhost:8080/"
        },
        "id": "w5mAD_qzoiep",
        "outputId": "caea77fe-5a37-4283-8cdf-c622e32600b6"
      },
      "outputs": [],
      "source": [
        "# training the model\n",
        "history = model.fit(x_train,y_train,epochs = 20 , validation_data = (x_val, y_val), callbacks=[cp_callback])"
      ]
    },
    {
      "cell_type": "code",
      "execution_count": null,
      "metadata": {
        "id": "WPOaAvPc7gj8"
      },
      "outputs": [],
      "source": [
        "# saving the model\n",
        "model.save('binary_classification_model.keras')"
      ]
    },
    {
      "cell_type": "code",
      "execution_count": null,
      "metadata": {
        "colab": {
          "base_uri": "https://localhost:8080/",
          "height": 55
        },
        "id": "LeBvxLHucv05",
        "outputId": "cee3c135-a2f7-49db-d771-145f47c06143"
      },
      "outputs": [],
      "source": [
        "# just run a test\n",
        "img = cv2.imread(\"./drive/MyDrive/DataSet1/OK/aug_gauss_noise_cast_ok_0_1234.jpeg\", 0)\n",
        "img = cv2.resize(img, (128, 128))\n",
        "img = np.array(img)\n",
        "img = img.reshape(-1, 128, 128, 1)\n",
        "img.shape\n",
        "y = model.predict(img)\n",
        "general_lables[np.argmax(y)]"
      ]
    }
  ],
  "metadata": {
    "accelerator": "TPU",
    "colab": {
      "provenance": []
    },
    "kernelspec": {
      "display_name": "Python 3",
      "name": "python3"
    },
    "language_info": {
      "codemirror_mode": {
        "name": "ipython",
        "version": 3
      },
      "file_extension": ".py",
      "mimetype": "text/x-python",
      "name": "python",
      "nbconvert_exporter": "python",
      "pygments_lexer": "ipython3",
      "version": "3.11.4"
    }
  },
  "nbformat": 4,
  "nbformat_minor": 0
}
