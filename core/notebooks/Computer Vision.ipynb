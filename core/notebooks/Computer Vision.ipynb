{
 "cells": [
  {
   "cell_type": "code",
   "execution_count": 79,
   "id": "ef82b65f",
   "metadata": {},
   "outputs": [],
   "source": [
    "import numpy as np\n",
    "import matplotlib.pyplot as plt\n",
    "import os\n",
    "import cv2\n",
    "from PIL import Image\n",
    "import random\n",
    "import pickle"
   ]
  },
  {
   "cell_type": "code",
   "execution_count": 80,
   "id": "dbde765a",
   "metadata": {},
   "outputs": [],
   "source": [
    "DataDir = \"C:/Users/M A H D I/Desktop/Jupyter_W/DataSet1\"\n",
    "Categories = [\"Defected\",\"OK\"]\n",
    "IMG_SIZE = 256\n",
    "data = []\n",
    "\n",
    "def create_datslist():\n",
    "    for category in Categories:\n",
    "        path = os.path.join(DataDir,category)\n",
    "        class_num = Categories.index(category)\n",
    "        for img in os.listdir(path):\n",
    "            try:\n",
    "                img_array = cv2.imread(os.path.join(path,img), cv2.IMREAD_GRAYSCALE)\n",
    "                img_N = cv2.normalize(img_array,None, alpha=0, beta=1, norm_type=cv2.NORM_MINMAX, dtype=cv2.CV_32F)\n",
    "                new_array = cv2.resize(img_N, (IMG_SIZE, IMG_SIZE))\n",
    "                data.append([new_array, class_num])\n",
    "            except Exception as e:\n",
    "                pass\n",
    "            \n",
    "create_datslist()\n"
   ]
  },
  {
   "cell_type": "code",
   "execution_count": 81,
   "id": "177afd57",
   "metadata": {
    "scrolled": true
   },
   "outputs": [],
   "source": [
    "x =[]\n",
    "y= []\n",
    "\n",
    "for features, label in data:\n",
    "    x.append(features)\n",
    "    y.append(label)\n",
    "\n",
    "x = np.array(x)\n",
    "y = np.array(y)\n"
   ]
  },
  {
   "cell_type": "code",
   "execution_count": 82,
   "id": "3a81fe01",
   "metadata": {},
   "outputs": [
    {
     "name": "stdout",
     "output_type": "stream",
     "text": [
      "(array([0, 1]), array([750, 500], dtype=int64))\n"
     ]
    }
   ],
   "source": [
    "print(np.unique(y, return_counts=True))"
   ]
  },
  {
   "cell_type": "code",
   "execution_count": 83,
   "id": "266cff64",
   "metadata": {},
   "outputs": [
    {
     "name": "stdout",
     "output_type": "stream",
     "text": [
      "(1250, 65536)\n"
     ]
    }
   ],
   "source": [
    "X = x.reshape(-1,IMG_SIZE*IMG_SIZE)\n",
    "print(X.shape)\n"
   ]
  },
  {
   "cell_type": "markdown",
   "id": "7655b9a6",
   "metadata": {},
   "source": [
    "# KNN"
   ]
  },
  {
   "cell_type": "code",
   "execution_count": 84,
   "id": "9f956337",
   "metadata": {
    "scrolled": true
   },
   "outputs": [
    {
     "name": "stdout",
     "output_type": "stream",
     "text": [
      "Accuracy on test data = 87.60 % \n",
      "\n",
      "(array([0, 1]), array([150, 100], dtype=int64)) \n",
      "\n",
      "[[134  16]\n",
      " [ 15  85]]\n"
     ]
    }
   ],
   "source": [
    "from sklearn.model_selection import train_test_split\n",
    "from sklearn.neighbors import KNeighborsClassifier\n",
    "from sklearn.metrics import accuracy_score\n",
    "from sklearn.metrics import confusion_matrix\n",
    "\n",
    "clf = KNeighborsClassifier(n_neighbors=5)\n",
    "\n",
    "X_train, X_test, y_train, y_test = train_test_split(X, y, test_size=0.2, random_state=6, stratify=y)\n",
    "\n",
    "clf.fit(X_train, y_train)      # train\n",
    "y_pred = clf.predict(X_test)   # test\n",
    "\n",
    "\n",
    "test_accuracy = accuracy_score(y_test, y_pred)\n",
    "print(\"Accuracy on test data = %.2f\" % (test_accuracy * 100) + \" % \\n\")\n",
    "\n",
    "print(np.unique(y_test, return_counts=True),'\\n')\n",
    "cm = confusion_matrix(y_test, y_pred)\n",
    "print(cm)\n"
   ]
  },
  {
   "cell_type": "markdown",
   "id": "a10283b7",
   "metadata": {},
   "source": [
    "# CNN"
   ]
  },
  {
   "cell_type": "code",
   "execution_count": 85,
   "id": "05426f9c",
   "metadata": {
    "scrolled": true
   },
   "outputs": [],
   "source": [
    "import tensorflow as tf\n",
    "from tensorflow import keras\n"
   ]
  },
  {
   "cell_type": "code",
   "execution_count": 86,
   "id": "cdc853c2",
   "metadata": {},
   "outputs": [],
   "source": [
    "x = x.reshape(-1,IMG_SIZE,IMG_SIZE,1)\n",
    "x_train, x_test, y_train, y_test = train_test_split(x, y, test_size=0.2, random_state=10, stratify=y)"
   ]
  },
  {
   "cell_type": "code",
   "execution_count": 106,
   "id": "dff8616b",
   "metadata": {
    "scrolled": true
   },
   "outputs": [],
   "source": [
    "model = keras.Sequential()\n",
    "\n",
    "model.add(keras.layers.Conv2D(64, (3,3), input_shape=(256,256,1), padding='same', activation='relu'))\n",
    "model.add(keras.layers.MaxPool2D())\n",
    "\n",
    "model.add(keras.layers.Conv2D(50, (3,3),padding='same', activation='relu'))\n",
    "model.add(keras.layers.MaxPool2D())\n",
    "\n",
    "model.add(keras.layers.Conv2D(32, (3,3),padding='same', activation='relu'))\n",
    "model.add(keras.layers.MaxPool2D())\n",
    "\n",
    "model.add(keras.layers.Flatten())\n",
    "\n",
    "model.add(keras.layers.Dense(98, activation='relu'))\n",
    "model.add(keras.layers.Dropout(0.25))\n",
    "model.add(keras.layers.Dense(27, activation='relu'))\n",
    "model.add(keras.layers.Dropout(0.25))\n",
    "model.add(keras.layers.Dense(2, activation='softmax'))"
   ]
  },
  {
   "cell_type": "code",
   "execution_count": 107,
   "id": "660e87e3",
   "metadata": {},
   "outputs": [],
   "source": [
    "model.compile(optimizer=tf.optimizers.Adam(),\n",
    "              loss=tf.losses.sparse_categorical_crossentropy,\n",
    "              metrics=['accuracy'])"
   ]
  },
  {
   "cell_type": "code",
   "execution_count": 108,
   "id": "bd3f42ab",
   "metadata": {},
   "outputs": [
    {
     "name": "stdout",
     "output_type": "stream",
     "text": [
      "Model: \"sequential_13\"\n",
      "_________________________________________________________________\n",
      " Layer (type)                Output Shape              Param #   \n",
      "=================================================================\n",
      " conv2d_43 (Conv2D)          (None, 256, 256, 64)      640       \n",
      "                                                                 \n",
      " max_pooling2d_43 (MaxPooli  (None, 128, 128, 64)      0         \n",
      " ng2D)                                                           \n",
      "                                                                 \n",
      " conv2d_44 (Conv2D)          (None, 128, 128, 50)      28850     \n",
      "                                                                 \n",
      " max_pooling2d_44 (MaxPooli  (None, 64, 64, 50)        0         \n",
      " ng2D)                                                           \n",
      "                                                                 \n",
      " conv2d_45 (Conv2D)          (None, 64, 64, 32)        14432     \n",
      "                                                                 \n",
      " max_pooling2d_45 (MaxPooli  (None, 32, 32, 32)        0         \n",
      " ng2D)                                                           \n",
      "                                                                 \n",
      " flatten_13 (Flatten)        (None, 32768)             0         \n",
      "                                                                 \n",
      " dense_39 (Dense)            (None, 98)                3211362   \n",
      "                                                                 \n",
      " dropout_25 (Dropout)        (None, 98)                0         \n",
      "                                                                 \n",
      " dense_40 (Dense)            (None, 27)                2673      \n",
      "                                                                 \n",
      " dropout_26 (Dropout)        (None, 27)                0         \n",
      "                                                                 \n",
      " dense_41 (Dense)            (None, 2)                 56        \n",
      "                                                                 \n",
      "=================================================================\n",
      "Total params: 3258013 (12.43 MB)\n",
      "Trainable params: 3258013 (12.43 MB)\n",
      "Non-trainable params: 0 (0.00 Byte)\n",
      "_________________________________________________________________\n"
     ]
    }
   ],
   "source": [
    "model.summary()"
   ]
  },
  {
   "cell_type": "code",
   "execution_count": 114,
   "id": "ad9403b6",
   "metadata": {},
   "outputs": [],
   "source": [
    "weights_filename = 'CNN-weights_84.hs'\n",
    "\n",
    "if os.path.exists(weights_filename):\n",
    "    model.load_weights(weights_filename)"
   ]
  },
  {
   "cell_type": "code",
   "execution_count": 115,
   "id": "7c294144",
   "metadata": {
    "scrolled": false
   },
   "outputs": [
    {
     "name": "stdout",
     "output_type": "stream",
     "text": [
      "Epoch 1/5\n",
      "125/125 [==============================] - 81s 646ms/step - loss: 0.2064 - accuracy: 0.8900 - val_loss: 0.3132 - val_accuracy: 0.8280\n",
      "Epoch 2/5\n",
      "125/125 [==============================] - 85s 679ms/step - loss: 0.1697 - accuracy: 0.9170 - val_loss: 0.3319 - val_accuracy: 0.8520\n",
      "Epoch 3/5\n",
      "125/125 [==============================] - 82s 655ms/step - loss: 0.1926 - accuracy: 0.9190 - val_loss: 0.3756 - val_accuracy: 0.8640\n",
      "Epoch 4/5\n",
      "125/125 [==============================] - 78s 623ms/step - loss: 0.1767 - accuracy: 0.9230 - val_loss: 0.3123 - val_accuracy: 0.8480\n",
      "Epoch 5/5\n",
      "125/125 [==============================] - 84s 672ms/step - loss: 0.1220 - accuracy: 0.9420 - val_loss: 0.3048 - val_accuracy: 0.8760\n"
     ]
    }
   ],
   "source": [
    "his = model.fit(x_train, y_train, epochs=5, batch_size=8, validation_data=(x_test, y_test))"
   ]
  },
  {
   "cell_type": "code",
   "execution_count": 116,
   "id": "fd9c5a36",
   "metadata": {},
   "outputs": [],
   "source": [
    "model.save_weights('CNN-weights_84.hs')"
   ]
  },
  {
   "cell_type": "code",
   "execution_count": null,
   "id": "af9427c7",
   "metadata": {},
   "outputs": [],
   "source": []
  }
 ],
 "metadata": {
  "kernelspec": {
   "display_name": "Python 3 (ipykernel)",
   "language": "python",
   "name": "python3"
  },
  "language_info": {
   "codemirror_mode": {
    "name": "ipython",
    "version": 3
   },
   "file_extension": ".py",
   "mimetype": "text/x-python",
   "name": "python",
   "nbconvert_exporter": "python",
   "pygments_lexer": "ipython3",
   "version": "3.11.5"
  }
 },
 "nbformat": 4,
 "nbformat_minor": 5
}
